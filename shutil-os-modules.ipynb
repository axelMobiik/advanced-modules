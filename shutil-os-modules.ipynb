{
 "cells": [
  {
   "cell_type": "markdown",
   "id": "2be7d40a-397d-4d33-aca4-e2685df10610",
   "metadata": {},
   "source": [
    "<h1>Shutil and OS Modules (Operating and Reading Files and Folders)</h1>\n",
    "<li>We already know how to open and individual file with Python, but we still don't know how to do a few things:</li>\n",
    "<li>> What if we have to open every file in a directory?</li>\n",
    "<li>> Wht if we want to actually move files around on out computer?</li>\n",
    "<li>Python's os module and shutil allow us to easily navigate files and directories on the computer and then perform actions on them, such as moving them or deleting them</li>"
   ]
  },
  {
   "cell_type": "code",
   "execution_count": 1,
   "id": "bd0a8b3a-fa3a-404f-b7ca-3aa27bcbb0c1",
   "metadata": {},
   "outputs": [
    {
     "data": {
      "text/plain": [
       "'C:\\\\Users\\\\axel.coronado\\\\Documents\\\\Udemy courses\\\\Python\\\\The Complete Python Bootcamp From Zero to Hero in Python\\\\advanced modules'"
      ]
     },
     "execution_count": 1,
     "metadata": {},
     "output_type": "execute_result"
    }
   ],
   "source": [
    "pwd"
   ]
  },
  {
   "cell_type": "code",
   "execution_count": 2,
   "id": "7248afa3-ca2d-417a-9882-3b3771f285e3",
   "metadata": {},
   "outputs": [],
   "source": [
    "f = open('practice.txt', 'w+')\n",
    "f.write('This is a test string')\n",
    "f.close()"
   ]
  },
  {
   "cell_type": "code",
   "execution_count": 3,
   "id": "f510a7f0-d98f-4820-bbb5-82de6cba5999",
   "metadata": {},
   "outputs": [],
   "source": [
    "import os"
   ]
  },
  {
   "cell_type": "code",
   "execution_count": 4,
   "id": "9ee8151f-503e-4350-82e4-67f7e33c8dfe",
   "metadata": {},
   "outputs": [
    {
     "data": {
      "text/plain": [
       "'C:\\\\Users\\\\axel.coronado\\\\Documents\\\\Udemy courses\\\\Python\\\\The Complete Python Bootcamp From Zero to Hero in Python\\\\advanced modules'"
      ]
     },
     "execution_count": 4,
     "metadata": {},
     "output_type": "execute_result"
    }
   ],
   "source": [
    "os.getcwd()"
   ]
  },
  {
   "cell_type": "code",
   "execution_count": 5,
   "id": "012eba82-6f83-475c-be81-4eab2c1783d1",
   "metadata": {},
   "outputs": [
    {
     "data": {
      "text/plain": [
       "['.ipynb_checkpoints',\n",
       " '01-Opening-and-Reading-Files-Folders.ipynb',\n",
       " 'collections-module.ipynb',\n",
       " 'introduction-advanced-modules.ipynb',\n",
       " 'practice.txt',\n",
       " 'shutil-os-modules.ipynb']"
      ]
     },
     "execution_count": 5,
     "metadata": {},
     "output_type": "execute_result"
    }
   ],
   "source": [
    "os.listdir()"
   ]
  },
  {
   "cell_type": "code",
   "execution_count": 6,
   "id": "3002a2be-d43b-4eb5-8d74-b896af6560b4",
   "metadata": {},
   "outputs": [
    {
     "data": {
      "text/plain": [
       "['All Users',\n",
       " 'axel.coronado',\n",
       " 'Default',\n",
       " 'Default User',\n",
       " 'desktop.ini',\n",
       " 'Public',\n",
       " 'Support Mobiik']"
      ]
     },
     "execution_count": 6,
     "metadata": {},
     "output_type": "execute_result"
    }
   ],
   "source": [
    "os.listdir('C:\\\\Users')"
   ]
  },
  {
   "cell_type": "code",
   "execution_count": 7,
   "id": "5f5d3072-c867-479c-9a4c-9397e528d6fa",
   "metadata": {},
   "outputs": [],
   "source": [
    "import shutil"
   ]
  },
  {
   "cell_type": "code",
   "execution_count": 8,
   "id": "7e5f2029-d0b8-458c-9c73-9408d4ea66c8",
   "metadata": {},
   "outputs": [
    {
     "data": {
      "text/plain": [
       "'C:\\\\Users\\\\axel.coronado\\\\Documents\\\\practice.txt'"
      ]
     },
     "execution_count": 8,
     "metadata": {},
     "output_type": "execute_result"
    }
   ],
   "source": [
    "shutil.move('practice.txt', 'C:\\\\Users\\\\axel.coronado\\\\Documents')"
   ]
  },
  {
   "cell_type": "code",
   "execution_count": 9,
   "id": "9d5c5e5a-4259-4974-ab25-5e24bef02e21",
   "metadata": {},
   "outputs": [
    {
     "data": {
      "text/plain": [
       "['301 - IVA Personas Morales',\n",
       " 'Axel Coronado - Contrato Mobiik.pdf',\n",
       " 'Complete_con_DocuSign_CONTRATO_INDETERMINADO.zip',\n",
       " 'COZA980324BH2-21-11-2023.pdf',\n",
       " 'COZA9830.pdf',\n",
       " 'Custom Office Templates',\n",
       " 'Dell',\n",
       " 'desktop.ini',\n",
       " 'Diccionarios',\n",
       " 'Diccionarios.zip',\n",
       " 'Documentación de procesos.docx',\n",
       " 'Documentación Mobiik',\n",
       " 'IISExpress',\n",
       " 'My Music',\n",
       " 'My Pictures',\n",
       " 'My Videos',\n",
       " 'My Web Sites',\n",
       " 'Poliza de seguro de gastos medicos mayores',\n",
       " 'practice.txt',\n",
       " 'Progreso en banca.xlsx',\n",
       " 'Python Scripts',\n",
       " 'Recibos de nómina',\n",
       " 'reglas basicas.txt',\n",
       " 'reglas-basicas.sh',\n",
       " 'Udemy courses',\n",
       " 'Visual Studio 2022',\n",
       " 'WindowsPowerShell',\n",
       " '~$Progreso en banca.xlsx']"
      ]
     },
     "execution_count": 9,
     "metadata": {},
     "output_type": "execute_result"
    }
   ],
   "source": [
    "os.listdir('C:\\\\Users\\\\axel.coronado\\\\Documents')"
   ]
  },
  {
   "cell_type": "code",
   "execution_count": 10,
   "id": "db3e3253-03a1-4539-bebb-4cfc9add9db6",
   "metadata": {},
   "outputs": [],
   "source": [
    "import send2trash"
   ]
  },
  {
   "cell_type": "code",
   "execution_count": 11,
   "id": "f530ba65-3b86-40d4-a253-4cfd8bca5a39",
   "metadata": {},
   "outputs": [
    {
     "data": {
      "text/plain": [
       "['301 - IVA Personas Morales',\n",
       " 'Axel Coronado - Contrato Mobiik.pdf',\n",
       " 'Complete_con_DocuSign_CONTRATO_INDETERMINADO.zip',\n",
       " 'COZA980324BH2-21-11-2023.pdf',\n",
       " 'COZA9830.pdf',\n",
       " 'Custom Office Templates',\n",
       " 'Dell',\n",
       " 'desktop.ini',\n",
       " 'Diccionarios',\n",
       " 'Diccionarios.zip',\n",
       " 'Documentación de procesos.docx',\n",
       " 'Documentación Mobiik',\n",
       " 'IISExpress',\n",
       " 'My Music',\n",
       " 'My Pictures',\n",
       " 'My Videos',\n",
       " 'My Web Sites',\n",
       " 'Poliza de seguro de gastos medicos mayores',\n",
       " 'practice.txt',\n",
       " 'Progreso en banca.xlsx',\n",
       " 'Python Scripts',\n",
       " 'Recibos de nómina',\n",
       " 'reglas basicas.txt',\n",
       " 'reglas-basicas.sh',\n",
       " 'Udemy courses',\n",
       " 'Visual Studio 2022',\n",
       " 'WindowsPowerShell',\n",
       " '~$Progreso en banca.xlsx']"
      ]
     },
     "execution_count": 11,
     "metadata": {},
     "output_type": "execute_result"
    }
   ],
   "source": [
    "os.listdir('C:\\\\Users\\\\axel.coronado\\\\Documents')"
   ]
  },
  {
   "cell_type": "code",
   "execution_count": 12,
   "id": "e5ec4445-d3fe-49b2-a581-e879839f8a3d",
   "metadata": {},
   "outputs": [
    {
     "data": {
      "text/plain": [
       "'C:\\\\Users\\\\axel.coronado\\\\Documents\\\\Udemy courses\\\\Python\\\\The Complete Python Bootcamp From Zero to Hero in Python\\\\advanced modules\\\\practice.txt'"
      ]
     },
     "execution_count": 12,
     "metadata": {},
     "output_type": "execute_result"
    }
   ],
   "source": [
    "shutil.move('C:\\\\Users\\\\axel.coronado\\\\Documents\\\\practice.txt', os.getcwd())"
   ]
  },
  {
   "cell_type": "code",
   "execution_count": 13,
   "id": "a2bcaee7-2bf3-4e79-8125-635564d0112e",
   "metadata": {},
   "outputs": [
    {
     "data": {
      "text/plain": [
       "['.ipynb_checkpoints',\n",
       " '01-Opening-and-Reading-Files-Folders.ipynb',\n",
       " 'collections-module.ipynb',\n",
       " 'introduction-advanced-modules.ipynb',\n",
       " 'practice.txt',\n",
       " 'shutil-os-modules.ipynb']"
      ]
     },
     "execution_count": 13,
     "metadata": {},
     "output_type": "execute_result"
    }
   ],
   "source": [
    "os.listdir()"
   ]
  },
  {
   "cell_type": "code",
   "execution_count": 14,
   "id": "149f9fee-da60-4c34-bef2-4838c8b68a25",
   "metadata": {},
   "outputs": [],
   "source": [
    "send2trash.send2trash('practice.txt')"
   ]
  },
  {
   "cell_type": "code",
   "execution_count": 15,
   "id": "f0d69ccc-f9a8-4360-8b7a-f6d564c26298",
   "metadata": {},
   "outputs": [
    {
     "data": {
      "text/plain": [
       "['.ipynb_checkpoints',\n",
       " '01-Opening-and-Reading-Files-Folders.ipynb',\n",
       " 'collections-module.ipynb',\n",
       " 'introduction-advanced-modules.ipynb',\n",
       " 'shutil-os-modules.ipynb']"
      ]
     },
     "execution_count": 15,
     "metadata": {},
     "output_type": "execute_result"
    }
   ],
   "source": [
    "os.listdir()"
   ]
  },
  {
   "cell_type": "code",
   "execution_count": 16,
   "id": "ed001ce8-a14d-4ada-89d7-4e1ca59da110",
   "metadata": {},
   "outputs": [],
   "source": [
    "file_path = 'C:\\\\Users\\\\axel.coronado\\\\Documents'"
   ]
  },
  {
   "cell_type": "code",
   "execution_count": 17,
   "id": "331f4c14-2b47-42bb-a72c-6a5ec5f87be7",
   "metadata": {},
   "outputs": [],
   "source": [
    "# Do not execute!! kill ram and kernel, too much files\n",
    "\n",
    "#for folder, sub_folders, files in os.walk(file_path):\n",
    "#    print(f'Currently looking at {folder}')\n",
    "#    print('\\n')\n",
    "#    print('The subfolders are: ')\n",
    "#    for sub_fold in sub_folders:\n",
    "#        print(f'\\tSubfolder: {sub_fold}')\n",
    "#        \n",
    "#    print('\\n')\n",
    "#    print('The files are: ')\n",
    "#    for f in files:\n",
    "#        print(f'\\tFile: {f}')\n",
    "#\n",
    "#    print('\\n')"
   ]
  },
  {
   "cell_type": "code",
   "execution_count": null,
   "id": "17805d0a-ef8d-4133-93e7-3e3a0d4ea5e9",
   "metadata": {},
   "outputs": [],
   "source": []
  }
 ],
 "metadata": {
  "kernelspec": {
   "display_name": "Python 3 (ipykernel)",
   "language": "python",
   "name": "python3"
  },
  "language_info": {
   "codemirror_mode": {
    "name": "ipython",
    "version": 3
   },
   "file_extension": ".py",
   "mimetype": "text/x-python",
   "name": "python",
   "nbconvert_exporter": "python",
   "pygments_lexer": "ipython3",
   "version": "3.11.7"
  }
 },
 "nbformat": 4,
 "nbformat_minor": 5
}
