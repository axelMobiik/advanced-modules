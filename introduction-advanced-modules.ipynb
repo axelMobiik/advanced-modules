{
 "cells": [
  {
   "cell_type": "markdown",
   "id": "05b4c451-dcf0-4231-84d2-3c953033fab0",
   "metadata": {},
   "source": [
    "<h1>Advanced Python Modules</h1>\n",
    "<li>Python has several built-in modules that we haven't fully explored yet!</li>\n",
    "<li>In this sections we will dive deeper into some useful built-in modules, explore their use cases, and then give you a puzzle exercise to solve</li>\n",
    "<li>Modules covered:</li>\n",
    "<li>> Collections</li>\n",
    "<li>> Os module and Datetime</li>\n",
    "<li>> Math and Random</li>\n",
    "<li>> Python Debugger</li>\n",
    "<li>> Timeit</li>\n",
    "<li>> Regular Expressions</li>\n",
    "<li>> Unzipping and Zipping Modules</li>"
   ]
  },
  {
   "cell_type": "code",
   "execution_count": null,
   "id": "33d35a88-1464-478b-8505-9b6b32824382",
   "metadata": {},
   "outputs": [],
   "source": []
  }
 ],
 "metadata": {
  "kernelspec": {
   "display_name": "Python 3 (ipykernel)",
   "language": "python",
   "name": "python3"
  },
  "language_info": {
   "codemirror_mode": {
    "name": "ipython",
    "version": 3
   },
   "file_extension": ".py",
   "mimetype": "text/x-python",
   "name": "python",
   "nbconvert_exporter": "python",
   "pygments_lexer": "ipython3",
   "version": "3.11.7"
  }
 },
 "nbformat": 4,
 "nbformat_minor": 5
}
