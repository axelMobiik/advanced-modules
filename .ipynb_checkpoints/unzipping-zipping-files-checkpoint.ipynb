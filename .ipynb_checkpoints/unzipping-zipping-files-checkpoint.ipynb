{
 "cells": [
  {
   "cell_type": "markdown",
   "id": "8530757f-0c56-4885-b3c7-87a607ce5ff4",
   "metadata": {},
   "source": [
    "<h1>Unzipping and Zipping Files</h1>"
   ]
  },
  {
   "cell_type": "code",
   "execution_count": 2,
   "id": "5b40d73e-ce09-46ed-9722-ffa83aa3ee62",
   "metadata": {},
   "outputs": [],
   "source": [
    "f = open('fileone.txt', 'w+')\n",
    "f.write('ONE FILE')\n",
    "f.close()"
   ]
  },
  {
   "cell_type": "code",
   "execution_count": 3,
   "id": "da8cf6e6-4bae-4fc2-ad9d-7a592fe7c0ba",
   "metadata": {},
   "outputs": [],
   "source": [
    "f = open('filetwo.txt', 'w+')\n",
    "f.write('TWO FILE')\n",
    "f.close()"
   ]
  },
  {
   "cell_type": "code",
   "execution_count": 4,
   "id": "f4303868-8cda-48fd-8e81-ecc488d3afb1",
   "metadata": {},
   "outputs": [],
   "source": [
    "import zipfile"
   ]
  },
  {
   "cell_type": "code",
   "execution_count": 5,
   "id": "702b9377-a763-486c-868f-04e4bb7bf0e4",
   "metadata": {},
   "outputs": [],
   "source": [
    "comp_file = zipfile.ZipFile('comp_file.zip', 'w')"
   ]
  },
  {
   "cell_type": "code",
   "execution_count": 7,
   "id": "aa6b4842-f926-4889-9b08-3c756fd70183",
   "metadata": {},
   "outputs": [],
   "source": [
    "comp_file.write('fileone.txt', compress_type=zipfile.ZIP_DEFLATED)"
   ]
  },
  {
   "cell_type": "code",
   "execution_count": 8,
   "id": "41512cbf-062d-4292-8a8a-0ffb1a3b6f51",
   "metadata": {},
   "outputs": [],
   "source": [
    "comp_file.write('filetwo.txt', compress_type=zipfile.ZIP_DEFLATED)"
   ]
  },
  {
   "cell_type": "code",
   "execution_count": 9,
   "id": "43e15e8a-22b3-41ee-81a6-a53bb1082dd2",
   "metadata": {},
   "outputs": [],
   "source": [
    "comp_file.close()"
   ]
  },
  {
   "cell_type": "code",
   "execution_count": 10,
   "id": "ee6e6fd3-2808-4483-a493-b761a5261946",
   "metadata": {},
   "outputs": [],
   "source": [
    "zip_obj = zipfile.ZipFile('comp_file.zip', 'r')"
   ]
  },
  {
   "cell_type": "code",
   "execution_count": 11,
   "id": "c3640599-8aa6-4463-ae20-c7397c58e6fd",
   "metadata": {},
   "outputs": [],
   "source": [
    "zip_obj.extractall('extracted_content')"
   ]
  },
  {
   "cell_type": "code",
   "execution_count": 12,
   "id": "3b476969-2d23-4c04-bf05-405b14df6a60",
   "metadata": {},
   "outputs": [
    {
     "data": {
      "text/plain": [
       "'C:\\\\Users\\\\axel.coronado\\\\Documents\\\\Udemy courses\\\\Python\\\\The Complete Python Bootcamp From Zero to Hero in Python\\\\advanced modules'"
      ]
     },
     "execution_count": 12,
     "metadata": {},
     "output_type": "execute_result"
    }
   ],
   "source": [
    "pwd"
   ]
  },
  {
   "cell_type": "code",
   "execution_count": 13,
   "id": "5378ef5e-69f6-4646-91ba-b07b52fb7f24",
   "metadata": {},
   "outputs": [],
   "source": [
    "import shutil"
   ]
  },
  {
   "cell_type": "code",
   "execution_count": 14,
   "id": "0d63933e-59b5-423c-bff9-dcf4021972a9",
   "metadata": {},
   "outputs": [],
   "source": [
    "dir_to_zip = 'C:\\\\Users\\\\axel.coronado\\\\Documents\\\\Udemy courses\\\\Python\\\\The Complete Python Bootcamp From Zero to Hero in Python\\\\advanced modules\\\\extracted_content'"
   ]
  },
  {
   "cell_type": "code",
   "execution_count": 15,
   "id": "5277ec6c-db39-48db-8ff1-e904f6333bd9",
   "metadata": {},
   "outputs": [],
   "source": [
    "output_filename = 'example'"
   ]
  },
  {
   "cell_type": "code",
   "execution_count": 16,
   "id": "581d2823-d299-449e-adb6-c2c3ead9376c",
   "metadata": {},
   "outputs": [
    {
     "data": {
      "text/plain": [
       "'C:\\\\Users\\\\axel.coronado\\\\Documents\\\\Udemy courses\\\\Python\\\\The Complete Python Bootcamp From Zero to Hero in Python\\\\advanced modules\\\\example.zip'"
      ]
     },
     "execution_count": 16,
     "metadata": {},
     "output_type": "execute_result"
    }
   ],
   "source": [
    "shutil.make_archive(output_filename, 'zip', dir_to_zip)"
   ]
  },
  {
   "cell_type": "code",
   "execution_count": 17,
   "id": "26f6370b-0c05-438c-87da-73e198007178",
   "metadata": {},
   "outputs": [],
   "source": [
    "shutil.unpack_archive('example.zip', 'final_unzip', 'zip')"
   ]
  },
  {
   "cell_type": "code",
   "execution_count": null,
   "id": "b7af3ee1-6dba-46ba-b196-5d9439213c40",
   "metadata": {},
   "outputs": [],
   "source": []
  }
 ],
 "metadata": {
  "kernelspec": {
   "display_name": "Python 3 (ipykernel)",
   "language": "python",
   "name": "python3"
  },
  "language_info": {
   "codemirror_mode": {
    "name": "ipython",
    "version": 3
   },
   "file_extension": ".py",
   "mimetype": "text/x-python",
   "name": "python",
   "nbconvert_exporter": "python",
   "pygments_lexer": "ipython3",
   "version": "3.11.7"
  }
 },
 "nbformat": 4,
 "nbformat_minor": 5
}
