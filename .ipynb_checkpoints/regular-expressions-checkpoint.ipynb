{
 "cells": [
  {
   "cell_type": "markdown",
   "id": "b31557af-523a-4be6-8500-b01f0d62f5cd",
   "metadata": {},
   "source": [
    "<h1>Regular Expressions</h1>\n",
    "<li>We already know we can search for substrings within a larger string with the in operator</li>\n",
    "<li>> \"dog\" in \"my dog is great\"</li>\n",
    "<li>>> True</li>\n",
    "<li>This has severe limitations, we need to know the exact string, and need to perform additional operations to account for capitalization and punctuation</li>\n",
    "<li>What if we only the pattern structure of the string we're looking for? Like an email or phone number?</li>\n",
    "<li>Regular Expressions (regex) allow us to search for general patterns in text data!</li>\n",
    "<li>For example, a simple email format can be:</li>\n",
    "<li>> user@email.com</li>\n",
    "<li>We know in this case we're looking for a pattern \"text\" + \"@\" + \"text\" + \".com\"</li>\n",
    "<li>The <strong>re</strong> library allows us to create specialized pattern strings and then search for matches within text</li>\n",
    "<li>The primary skill set for regex is understanding the sepcial syntax for these pattern string</li>\n",
    "<li>Don't feel like you need to memorize these patterns! Focus on understanding how to look up the information</li>\n",
    "<li>Phone Number</li>\n",
    "<li>> (555)-555-5555</li>\n",
    "<li>Regex Pattern</li>\n",
    "<li>> r\"(\\d\\d\\d)-\\d\\d\\d-\\d\\d\\d\\d\"</li>\n",
    "<li>> r\"(\\d{3})-\\d{3}-\\d{4}\"</li>\n",
    "<li>This series of lectures will first focus on how to use the <strong>re</strong> library to search for patterns within text</li>\n",
    "<li>Afterwards we will focus on understanding the regex syntax codes</li>"
   ]
  },
  {
   "cell_type": "code",
   "execution_count": 2,
   "id": "e79faf90-26ff-46ef-a0ea-bf628d9ccd6d",
   "metadata": {},
   "outputs": [],
   "source": [
    "text = \"The agent's phone number is 408-555-1234. Call soon!\""
   ]
  },
  {
   "cell_type": "code",
   "execution_count": 3,
   "id": "0386423e-a7dc-4aa1-a085-b9d6b379d7f8",
   "metadata": {},
   "outputs": [
    {
     "data": {
      "text/plain": [
       "True"
      ]
     },
     "execution_count": 3,
     "metadata": {},
     "output_type": "execute_result"
    }
   ],
   "source": [
    "'phone' in text"
   ]
  },
  {
   "cell_type": "code",
   "execution_count": 4,
   "id": "1f7cf9f7-3b00-4467-b75e-684fa5c192bb",
   "metadata": {},
   "outputs": [],
   "source": [
    "import re"
   ]
  },
  {
   "cell_type": "code",
   "execution_count": 5,
   "id": "83c0e0f7-efb8-403d-bedb-bc7486f31f29",
   "metadata": {},
   "outputs": [],
   "source": [
    "pattern = 'phone'"
   ]
  },
  {
   "cell_type": "code",
   "execution_count": 6,
   "id": "ebcb9dee-bbaa-4ddb-89aa-8aa5282c66dd",
   "metadata": {},
   "outputs": [
    {
     "data": {
      "text/plain": [
       "<re.Match object; span=(12, 17), match='phone'>"
      ]
     },
     "execution_count": 6,
     "metadata": {},
     "output_type": "execute_result"
    }
   ],
   "source": [
    "re.search(pattern, text)"
   ]
  },
  {
   "cell_type": "code",
   "execution_count": 7,
   "id": "a7d1cd7b-dee5-48bb-b1fd-67189c34adb1",
   "metadata": {},
   "outputs": [],
   "source": [
    "pattern = 'NOT IN TEXT'"
   ]
  },
  {
   "cell_type": "code",
   "execution_count": 8,
   "id": "4c8734cb-3ea9-4608-8d70-b130ceec7180",
   "metadata": {},
   "outputs": [],
   "source": [
    "re.search(pattern, text)"
   ]
  },
  {
   "cell_type": "code",
   "execution_count": 9,
   "id": "a60315d8-4a1d-4dc5-8702-19396bbaa783",
   "metadata": {},
   "outputs": [],
   "source": [
    "pattern = 'phone'"
   ]
  },
  {
   "cell_type": "code",
   "execution_count": 10,
   "id": "e702f03f-d889-4cbb-a4a6-1261a58acf99",
   "metadata": {},
   "outputs": [],
   "source": [
    "match = re.search(pattern, text)"
   ]
  },
  {
   "cell_type": "code",
   "execution_count": 11,
   "id": "af36b155-78e7-4fde-a0a0-edca985fc58b",
   "metadata": {},
   "outputs": [
    {
     "data": {
      "text/plain": [
       "<re.Match object; span=(12, 17), match='phone'>"
      ]
     },
     "execution_count": 11,
     "metadata": {},
     "output_type": "execute_result"
    }
   ],
   "source": [
    "match"
   ]
  },
  {
   "cell_type": "code",
   "execution_count": 12,
   "id": "06718ae9-9c6a-4580-a354-3b94ffa2df85",
   "metadata": {},
   "outputs": [
    {
     "data": {
      "text/plain": [
       "(12, 17)"
      ]
     },
     "execution_count": 12,
     "metadata": {},
     "output_type": "execute_result"
    }
   ],
   "source": [
    "match.span()"
   ]
  },
  {
   "cell_type": "code",
   "execution_count": 13,
   "id": "69c14e4f-db47-44e6-ac28-67c9da26e390",
   "metadata": {},
   "outputs": [
    {
     "data": {
      "text/plain": [
       "12"
      ]
     },
     "execution_count": 13,
     "metadata": {},
     "output_type": "execute_result"
    }
   ],
   "source": [
    "match.start()"
   ]
  },
  {
   "cell_type": "code",
   "execution_count": 14,
   "id": "3ff2a925-f338-4bc7-8c22-feee34fff6a4",
   "metadata": {},
   "outputs": [
    {
     "data": {
      "text/plain": [
       "17"
      ]
     },
     "execution_count": 14,
     "metadata": {},
     "output_type": "execute_result"
    }
   ],
   "source": [
    "match.end()"
   ]
  },
  {
   "cell_type": "code",
   "execution_count": 15,
   "id": "90832683-5dad-4f10-9642-78ff00bec696",
   "metadata": {},
   "outputs": [],
   "source": [
    "text = 'my phone once, my phone twice'"
   ]
  },
  {
   "cell_type": "code",
   "execution_count": 16,
   "id": "cf2097a7-f45d-4326-b941-ca6ca8cc6483",
   "metadata": {},
   "outputs": [],
   "source": [
    "match = re.search('phone', text)"
   ]
  },
  {
   "cell_type": "code",
   "execution_count": 17,
   "id": "007d35fe-7885-4873-b90c-85584868accb",
   "metadata": {},
   "outputs": [
    {
     "data": {
      "text/plain": [
       "<re.Match object; span=(3, 8), match='phone'>"
      ]
     },
     "execution_count": 17,
     "metadata": {},
     "output_type": "execute_result"
    }
   ],
   "source": [
    "match"
   ]
  },
  {
   "cell_type": "code",
   "execution_count": 18,
   "id": "497e8d70-1db0-472a-83a2-3bbb131bb0ef",
   "metadata": {},
   "outputs": [],
   "source": [
    "matches = re.findall('phone', text)"
   ]
  },
  {
   "cell_type": "code",
   "execution_count": 19,
   "id": "f43ff737-5bbd-4e99-a49b-b3d80335d5d3",
   "metadata": {},
   "outputs": [
    {
     "data": {
      "text/plain": [
       "['phone', 'phone']"
      ]
     },
     "execution_count": 19,
     "metadata": {},
     "output_type": "execute_result"
    }
   ],
   "source": [
    "matches"
   ]
  },
  {
   "cell_type": "code",
   "execution_count": 20,
   "id": "3cb4b9d8-2f3b-4da1-8bf0-4e45063f30f7",
   "metadata": {},
   "outputs": [
    {
     "data": {
      "text/plain": [
       "2"
      ]
     },
     "execution_count": 20,
     "metadata": {},
     "output_type": "execute_result"
    }
   ],
   "source": [
    "len(matches)"
   ]
  },
  {
   "cell_type": "code",
   "execution_count": 21,
   "id": "623709aa-8a7e-424b-ab91-b48953963463",
   "metadata": {},
   "outputs": [
    {
     "name": "stdout",
     "output_type": "stream",
     "text": [
      "<re.Match object; span=(3, 8), match='phone'>\n",
      "<re.Match object; span=(18, 23), match='phone'>\n"
     ]
    }
   ],
   "source": [
    "for match in re.finditer('phone', text):\n",
    "    print(match)"
   ]
  },
  {
   "cell_type": "code",
   "execution_count": 22,
   "id": "27e48b98-2832-4c4e-9b02-1fef89870ea7",
   "metadata": {},
   "outputs": [
    {
     "name": "stdout",
     "output_type": "stream",
     "text": [
      "(3, 8)\n",
      "(18, 23)\n"
     ]
    }
   ],
   "source": [
    "for match in re.finditer('phone', text):\n",
    "    print(match.span())"
   ]
  },
  {
   "cell_type": "code",
   "execution_count": 23,
   "id": "ae7fa668-2d41-43f7-b765-71045b55c4c3",
   "metadata": {},
   "outputs": [
    {
     "name": "stdout",
     "output_type": "stream",
     "text": [
      "phone\n",
      "phone\n"
     ]
    }
   ],
   "source": [
    "for match in re.finditer('phone', text):\n",
    "    print(match.group())"
   ]
  },
  {
   "cell_type": "markdown",
   "id": "3160e0f8-fd9b-455e-aec8-c031e7946ad0",
   "metadata": {},
   "source": [
    "<h2>Character Identifiers</h2>\n",
    "<li>\\d - A digit</li>\n",
    "<li>\\w - Alphanumeric</li>\n",
    "<li>\\s - White space</li>\n",
    "<li>\\D - A non digit</li>\n",
    "<li>\\W - Non-alphanumeric</li>\n",
    "<li>\\S - Non-whitespace</li>"
   ]
  },
  {
   "cell_type": "code",
   "execution_count": 24,
   "id": "df407484-d6bb-470f-977e-1df4b0b0a0ce",
   "metadata": {},
   "outputs": [],
   "source": [
    "text = 'My phone number is 408-555-1234'"
   ]
  },
  {
   "cell_type": "code",
   "execution_count": 25,
   "id": "b37aac93-4ef1-4c5d-8439-0372561257d5",
   "metadata": {},
   "outputs": [],
   "source": [
    "phone = re.search(r'\\d\\d\\d-\\d\\d\\d-\\d\\d\\d\\d', text)"
   ]
  },
  {
   "cell_type": "code",
   "execution_count": 26,
   "id": "41fa0ba4-1734-4cfc-b746-1c9a14547064",
   "metadata": {},
   "outputs": [
    {
     "data": {
      "text/plain": [
       "<re.Match object; span=(19, 31), match='408-555-1234'>"
      ]
     },
     "execution_count": 26,
     "metadata": {},
     "output_type": "execute_result"
    }
   ],
   "source": [
    "phone"
   ]
  },
  {
   "cell_type": "code",
   "execution_count": 27,
   "id": "683c4f9e-da1e-4d91-a48e-6980eaaf010f",
   "metadata": {},
   "outputs": [
    {
     "data": {
      "text/plain": [
       "'408-555-1234'"
      ]
     },
     "execution_count": 27,
     "metadata": {},
     "output_type": "execute_result"
    }
   ],
   "source": [
    "phone.group()"
   ]
  },
  {
   "cell_type": "markdown",
   "id": "fcd12f35-0cfc-4a8e-90d3-2a126f58542d",
   "metadata": {},
   "source": [
    "<h2>Quantifiers</h2>\n",
    "<li>+ - Occurs one or more times</li>\n",
    "<li>{3} - Occurs exactly 3 times</li>\n",
    "<li>{2, 4} - Occurs 2 to 4 times</li>\n",
    "<li>{3, } - Occurs 3 or more</li>\n",
    "<li>* - Occurs zero or more imes</li>\n",
    "<li>? - Once or none</li>"
   ]
  },
  {
   "cell_type": "code",
   "execution_count": 28,
   "id": "f7eb9d4b-d21c-48ec-8c28-3ebcbba2126c",
   "metadata": {},
   "outputs": [],
   "source": [
    "phone = re.search(r'\\d{3}-\\d{3}-\\d{4}', text)"
   ]
  },
  {
   "cell_type": "code",
   "execution_count": 29,
   "id": "09938d19-490d-4bd0-b891-27818f3dbb8c",
   "metadata": {},
   "outputs": [
    {
     "data": {
      "text/plain": [
       "<re.Match object; span=(19, 31), match='408-555-1234'>"
      ]
     },
     "execution_count": 29,
     "metadata": {},
     "output_type": "execute_result"
    }
   ],
   "source": [
    "phone"
   ]
  },
  {
   "cell_type": "code",
   "execution_count": 30,
   "id": "568c0231-1941-40e9-acb1-db9cb55821f5",
   "metadata": {},
   "outputs": [],
   "source": [
    "phone_pattern = re.compile(r'(\\d{3})-(\\d{3})-(\\d{4})')"
   ]
  },
  {
   "cell_type": "code",
   "execution_count": 31,
   "id": "ba37ac28-2311-49d5-94bf-861b1692c3b7",
   "metadata": {},
   "outputs": [],
   "source": [
    "results = re.search(phone_pattern, text)"
   ]
  },
  {
   "cell_type": "code",
   "execution_count": 32,
   "id": "265553d4-a416-400a-b1f6-04af2673ebd5",
   "metadata": {},
   "outputs": [
    {
     "data": {
      "text/plain": [
       "'408-555-1234'"
      ]
     },
     "execution_count": 32,
     "metadata": {},
     "output_type": "execute_result"
    }
   ],
   "source": [
    "results.group()"
   ]
  },
  {
   "cell_type": "code",
   "execution_count": 33,
   "id": "7b150290-e011-4a1c-9081-1d5e358e1d4c",
   "metadata": {},
   "outputs": [
    {
     "data": {
      "text/plain": [
       "'1234'"
      ]
     },
     "execution_count": 33,
     "metadata": {},
     "output_type": "execute_result"
    }
   ],
   "source": [
    "results.group(3)"
   ]
  },
  {
   "cell_type": "markdown",
   "id": "09b593b0-5993-489c-a2f6-a3a82dd0641f",
   "metadata": {},
   "source": [
    "<h1>Additional Regex Syntax</h1>"
   ]
  },
  {
   "cell_type": "code",
   "execution_count": 35,
   "id": "3939a5ac-fe89-4f91-afcb-41e9a2dde810",
   "metadata": {},
   "outputs": [
    {
     "data": {
      "text/plain": [
       "<re.Match object; span=(4, 7), match='dog'>"
      ]
     },
     "execution_count": 35,
     "metadata": {},
     "output_type": "execute_result"
    }
   ],
   "source": [
    "re.search(r'cat|dog', 'The dog is here')"
   ]
  },
  {
   "cell_type": "code",
   "execution_count": 36,
   "id": "e799faae-bc9b-484a-bc8c-3122c52baf0a",
   "metadata": {},
   "outputs": [
    {
     "data": {
      "text/plain": [
       "['at', 'at', 'at']"
      ]
     },
     "execution_count": 36,
     "metadata": {},
     "output_type": "execute_result"
    }
   ],
   "source": [
    "re.findall(r'at', 'The cat in the hat sat there.')"
   ]
  },
  {
   "cell_type": "code",
   "execution_count": 37,
   "id": "78e5f855-5bff-439c-a5b2-099e42253761",
   "metadata": {},
   "outputs": [
    {
     "data": {
      "text/plain": [
       "['e cat', 'e hat']"
      ]
     },
     "execution_count": 37,
     "metadata": {},
     "output_type": "execute_result"
    }
   ],
   "source": [
    "re.findall(r'...at', 'The cat in the hat sat there.')"
   ]
  },
  {
   "cell_type": "code",
   "execution_count": 38,
   "id": "2ca65882-6c13-49c5-a1b3-4efc2506d098",
   "metadata": {},
   "outputs": [
    {
     "data": {
      "text/plain": [
       "['1']"
      ]
     },
     "execution_count": 38,
     "metadata": {},
     "output_type": "execute_result"
    }
   ],
   "source": [
    "re.findall(r'^\\d', '1 is a number')"
   ]
  },
  {
   "cell_type": "code",
   "execution_count": 40,
   "id": "5298024e-9a3c-4fd5-a8db-cc2c593669e1",
   "metadata": {},
   "outputs": [
    {
     "data": {
      "text/plain": [
       "['2']"
      ]
     },
     "execution_count": 40,
     "metadata": {},
     "output_type": "execute_result"
    }
   ],
   "source": [
    "re.findall(r'\\d$', 'The number is 2')"
   ]
  },
  {
   "cell_type": "code",
   "execution_count": 41,
   "id": "349fde67-889e-4059-b5d2-39daa8b66b88",
   "metadata": {},
   "outputs": [],
   "source": [
    "phrase = 'there are 3 numbers 34 inside 5 this sentence'"
   ]
  },
  {
   "cell_type": "code",
   "execution_count": 44,
   "id": "e47ba19e-68d3-4fa3-8b95-ad0d363aa280",
   "metadata": {},
   "outputs": [],
   "source": [
    "pattern = r'[^\\d]+'"
   ]
  },
  {
   "cell_type": "code",
   "execution_count": 45,
   "id": "589719a7-1fb6-46c7-bd82-c29fc9272fa4",
   "metadata": {},
   "outputs": [
    {
     "data": {
      "text/plain": [
       "['there are ', ' numbers ', ' inside ', ' this sentence']"
      ]
     },
     "execution_count": 45,
     "metadata": {},
     "output_type": "execute_result"
    }
   ],
   "source": [
    "re.findall(pattern, phrase)"
   ]
  },
  {
   "cell_type": "code",
   "execution_count": 46,
   "id": "cc9f1beb-fde2-4be4-8662-09cd57823811",
   "metadata": {},
   "outputs": [],
   "source": [
    "test_phrase = 'This is a string! But it has punctuation. How can we remove it?'"
   ]
  },
  {
   "cell_type": "code",
   "execution_count": 51,
   "id": "e1b6c275-3433-484b-9c13-c29ae669978c",
   "metadata": {},
   "outputs": [],
   "source": [
    "clean = re.findall(r'[^!.? ]+', test_phrase)"
   ]
  },
  {
   "cell_type": "code",
   "execution_count": 53,
   "id": "c8ce773e-6349-4627-8cd2-4133814e9f40",
   "metadata": {},
   "outputs": [
    {
     "data": {
      "text/plain": [
       "['This',\n",
       " 'is',\n",
       " 'a',\n",
       " 'string',\n",
       " 'But',\n",
       " 'it',\n",
       " 'has',\n",
       " 'punctuation',\n",
       " 'How',\n",
       " 'can',\n",
       " 'we',\n",
       " 'remove',\n",
       " 'it']"
      ]
     },
     "execution_count": 53,
     "metadata": {},
     "output_type": "execute_result"
    }
   ],
   "source": [
    "clean"
   ]
  },
  {
   "cell_type": "code",
   "execution_count": 54,
   "id": "c6c4f81e-b4f0-46ce-9d0c-0cdb84a44663",
   "metadata": {},
   "outputs": [
    {
     "data": {
      "text/plain": [
       "'This is a string But it has punctuation How can we remove it'"
      ]
     },
     "execution_count": 54,
     "metadata": {},
     "output_type": "execute_result"
    }
   ],
   "source": [
    "' '.join(clean)"
   ]
  },
  {
   "cell_type": "code",
   "execution_count": 56,
   "id": "5ba31965-59e4-4aac-8511-9d40ebf9ecd8",
   "metadata": {},
   "outputs": [
    {
     "data": {
      "text/plain": [
       "['This',\n",
       " 'is',\n",
       " 'a',\n",
       " 'string',\n",
       " 'But',\n",
       " 'it',\n",
       " 'has',\n",
       " 'punctuation',\n",
       " 'How',\n",
       " 'can',\n",
       " 'we',\n",
       " 'remove',\n",
       " 'it']"
      ]
     },
     "execution_count": 56,
     "metadata": {},
     "output_type": "execute_result"
    }
   ],
   "source": [
    "clean"
   ]
  },
  {
   "cell_type": "code",
   "execution_count": 57,
   "id": "b0f4d005-597d-41e8-9980-1b0381ba49db",
   "metadata": {},
   "outputs": [],
   "source": [
    "text = 'Only find the hypen-words in this sentence. But you do not know how long-ish they are'"
   ]
  },
  {
   "cell_type": "code",
   "execution_count": 62,
   "id": "1db1dd24-f49d-4245-81b4-62e503a55a44",
   "metadata": {},
   "outputs": [],
   "source": [
    "pattern = r'[\\w]+-[\\w]+'"
   ]
  },
  {
   "cell_type": "code",
   "execution_count": 63,
   "id": "94663d76-07ba-4731-a0c8-9ce1eae9475e",
   "metadata": {},
   "outputs": [
    {
     "data": {
      "text/plain": [
       "['hypen-words', 'long-ish']"
      ]
     },
     "execution_count": 63,
     "metadata": {},
     "output_type": "execute_result"
    }
   ],
   "source": [
    "re.findall(pattern, text)"
   ]
  },
  {
   "cell_type": "code",
   "execution_count": 64,
   "id": "feea53c8-9c53-4344-8694-2a2e94c1148c",
   "metadata": {},
   "outputs": [],
   "source": [
    "text = 'Hello would you like some catfish?'\n",
    "texttwo = 'Hello, would you like to take a catnap?'\n",
    "textthree = 'Hello, have you seen this caterpillar?'"
   ]
  },
  {
   "cell_type": "code",
   "execution_count": 67,
   "id": "677429e2-5a3a-4273-a50f-679ce5e1d06a",
   "metadata": {},
   "outputs": [],
   "source": [
    "re.search(r'cat(fish|nap|claw)', textthree)"
   ]
  },
  {
   "cell_type": "code",
   "execution_count": null,
   "id": "98615844-a1aa-4027-a201-71ee48421428",
   "metadata": {},
   "outputs": [],
   "source": []
  }
 ],
 "metadata": {
  "kernelspec": {
   "display_name": "Python 3 (ipykernel)",
   "language": "python",
   "name": "python3"
  },
  "language_info": {
   "codemirror_mode": {
    "name": "ipython",
    "version": 3
   },
   "file_extension": ".py",
   "mimetype": "text/x-python",
   "name": "python",
   "nbconvert_exporter": "python",
   "pygments_lexer": "ipython3",
   "version": "3.11.7"
  }
 },
 "nbformat": 4,
 "nbformat_minor": 5
}
