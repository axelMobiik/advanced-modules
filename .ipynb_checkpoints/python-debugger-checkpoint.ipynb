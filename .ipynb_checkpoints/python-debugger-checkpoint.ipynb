{
 "cells": [
  {
   "cell_type": "markdown",
   "id": "821a953c-97f0-49a7-b316-462a2007aba3",
   "metadata": {},
   "source": [
    "<h1>Python Debugger</h1>\n",
    "<li>When trying to figure out what errors there are in your code, you've probably used print() to try track down the error</li>\n",
    "<li>Fortunately, Python comes with a built-in debugger tool that allows you to interactively explore variables within mid-operation of your Python code</li>"
   ]
  },
  {
   "cell_type": "code",
   "execution_count": 2,
   "id": "12717f5c-12c3-482b-8b8f-60903b2f69ff",
   "metadata": {},
   "outputs": [],
   "source": [
    "x = [1,2,3]\n",
    "y = 2\n",
    "z = 3"
   ]
  },
  {
   "cell_type": "code",
   "execution_count": 3,
   "id": "7cb2523e-33ee-44fa-a7a5-bfbc79374fbb",
   "metadata": {},
   "outputs": [],
   "source": [
    "import pdb"
   ]
  },
  {
   "cell_type": "code",
   "execution_count": 10,
   "id": "f1b26fdf-f4a5-40bb-87f6-e79241f27cd9",
   "metadata": {},
   "outputs": [
    {
     "name": "stdout",
     "output_type": "stream",
     "text": [
      "first stop\n",
      "--Return--\n",
      "None\n",
      "> \u001b[1;32mc:\\users\\axel.coronado\\appdata\\local\\temp\\ipykernel_17764\\2185151114.py\u001b[0m(5)\u001b[0;36m<module>\u001b[1;34m()\u001b[0m\n",
      "\n"
     ]
    },
    {
     "name": "stdin",
     "output_type": "stream",
     "text": [
      "ipdb>  continue\n"
     ]
    },
    {
     "name": "stdout",
     "output_type": "stream",
     "text": [
      "second stop\n",
      "--Return--\n",
      "None\n",
      "> \u001b[1;32mc:\\users\\axel.coronado\\appdata\\local\\temp\\ipykernel_17764\\2185151114.py\u001b[0m(9)\u001b[0;36m<module>\u001b[1;34m()\u001b[0m\n",
      "\n"
     ]
    },
    {
     "name": "stdin",
     "output_type": "stream",
     "text": [
      "ipdb>  continue\n"
     ]
    },
    {
     "ename": "TypeError",
     "evalue": "unsupported operand type(s) for +: 'int' and 'list'",
     "output_type": "error",
     "traceback": [
      "\u001b[1;31m---------------------------------------------------------------------------\u001b[0m",
      "\u001b[1;31mTypeError\u001b[0m                                 Traceback (most recent call last)",
      "Cell \u001b[1;32mIn[10], line 10\u001b[0m\n\u001b[0;32m      8\u001b[0m \u001b[38;5;28mprint\u001b[39m(\u001b[38;5;124m'\u001b[39m\u001b[38;5;124msecond stop\u001b[39m\u001b[38;5;124m'\u001b[39m)\n\u001b[0;32m      9\u001b[0m pdb\u001b[38;5;241m.\u001b[39mset_trace()\n\u001b[1;32m---> 10\u001b[0m result_two \u001b[38;5;241m=\u001b[39m y \u001b[38;5;241m+\u001b[39m x\n\u001b[0;32m     12\u001b[0m \u001b[38;5;28mprint\u001b[39m(\u001b[38;5;124m'\u001b[39m\u001b[38;5;124mend of the code\u001b[39m\u001b[38;5;124m'\u001b[39m)\n",
      "\u001b[1;31mTypeError\u001b[0m: unsupported operand type(s) for +: 'int' and 'list'"
     ]
    }
   ],
   "source": [
    "x = [1,2,3]\n",
    "y = 2\n",
    "z = 3\n",
    "print('first stop')\n",
    "pdb.set_trace()\n",
    "result_one = y + z\n",
    "\n",
    "print('second stop')\n",
    "pdb.set_trace()\n",
    "result_two = y + x\n",
    "\n",
    "print('end of the code')"
   ]
  },
  {
   "cell_type": "code",
   "execution_count": null,
   "id": "5c494de2-d7c7-4d07-9f39-0c07ded34f3c",
   "metadata": {},
   "outputs": [],
   "source": []
  }
 ],
 "metadata": {
  "kernelspec": {
   "display_name": "Python 3 (ipykernel)",
   "language": "python",
   "name": "python3"
  },
  "language_info": {
   "codemirror_mode": {
    "name": "ipython",
    "version": 3
   },
   "file_extension": ".py",
   "mimetype": "text/x-python",
   "name": "python",
   "nbconvert_exporter": "python",
   "pygments_lexer": "ipython3",
   "version": "3.11.7"
  }
 },
 "nbformat": 4,
 "nbformat_minor": 5
}
